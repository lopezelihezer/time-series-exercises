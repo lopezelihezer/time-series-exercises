{
 "cells": [
  {
   "cell_type": "code",
   "execution_count": 1,
   "id": "b0426ccb-3008-47fb-9747-c6629cf93c17",
   "metadata": {},
   "outputs": [],
   "source": [
    "import matplotlib as mpl\n",
    "import matplotlib.pyplot as plt\n",
    "import numpy as np\n",
    "import pandas as pd\n",
    "plt.ion()"
   ]
  },
  {
   "cell_type": "markdown",
   "id": "3f10d73f-5a00-4e75-ad4a-54923966820f",
   "metadata": {},
   "source": [
    "For the store item demand data, you will need to choose a method of aggregating such that each observation is a unique date. For both datasets you should choose a method of splitting your data and only explore the training split. "
   ]
  },
  {
   "cell_type": "code",
   "execution_count": 2,
   "id": "dc418446-ebd3-41e4-9844-7acaa2478fc1",
   "metadata": {},
   "outputs": [
    {
     "data": {
      "text/html": [
       "<div>\n",
       "<style scoped>\n",
       "    .dataframe tbody tr th:only-of-type {\n",
       "        vertical-align: middle;\n",
       "    }\n",
       "\n",
       "    .dataframe tbody tr th {\n",
       "        vertical-align: top;\n",
       "    }\n",
       "\n",
       "    .dataframe thead th {\n",
       "        text-align: right;\n",
       "    }\n",
       "</style>\n",
       "<table border=\"1\" class=\"dataframe\">\n",
       "  <thead>\n",
       "    <tr style=\"text-align: right;\">\n",
       "      <th></th>\n",
       "      <th>item_brand</th>\n",
       "      <th>item_id</th>\n",
       "      <th>item_name</th>\n",
       "      <th>item_price</th>\n",
       "      <th>item_upc12</th>\n",
       "      <th>item_upc14</th>\n",
       "      <th>sale_amount</th>\n",
       "      <th>sale_id</th>\n",
       "      <th>store_address</th>\n",
       "      <th>store_city</th>\n",
       "      <th>store_id</th>\n",
       "      <th>store_state</th>\n",
       "      <th>store_zipcode</th>\n",
       "      <th>month</th>\n",
       "      <th>day_of_the_week</th>\n",
       "      <th>sales_total</th>\n",
       "    </tr>\n",
       "    <tr>\n",
       "      <th>sale_date</th>\n",
       "      <th></th>\n",
       "      <th></th>\n",
       "      <th></th>\n",
       "      <th></th>\n",
       "      <th></th>\n",
       "      <th></th>\n",
       "      <th></th>\n",
       "      <th></th>\n",
       "      <th></th>\n",
       "      <th></th>\n",
       "      <th></th>\n",
       "      <th></th>\n",
       "      <th></th>\n",
       "      <th></th>\n",
       "      <th></th>\n",
       "      <th></th>\n",
       "    </tr>\n",
       "  </thead>\n",
       "  <tbody>\n",
       "    <tr>\n",
       "      <th>2013-01-01</th>\n",
       "      <td>Riceland</td>\n",
       "      <td>1</td>\n",
       "      <td>Riceland American Jazmine Rice</td>\n",
       "      <td>0.84</td>\n",
       "      <td>35200264013</td>\n",
       "      <td>35200264013</td>\n",
       "      <td>13.0</td>\n",
       "      <td>1</td>\n",
       "      <td>12125 Alamo Ranch Pkwy</td>\n",
       "      <td>San Antonio</td>\n",
       "      <td>1</td>\n",
       "      <td>TX</td>\n",
       "      <td>78253</td>\n",
       "      <td>January</td>\n",
       "      <td>Tuesday</td>\n",
       "      <td>10.92</td>\n",
       "    </tr>\n",
       "    <tr>\n",
       "      <th>2013-01-01</th>\n",
       "      <td>Mueller</td>\n",
       "      <td>12</td>\n",
       "      <td>Mueller Sport Care Basic Support Level Medium ...</td>\n",
       "      <td>8.40</td>\n",
       "      <td>74676640211</td>\n",
       "      <td>74676640211</td>\n",
       "      <td>26.0</td>\n",
       "      <td>211817</td>\n",
       "      <td>12018 Perrin Beitel Rd</td>\n",
       "      <td>San Antonio</td>\n",
       "      <td>7</td>\n",
       "      <td>TX</td>\n",
       "      <td>78217</td>\n",
       "      <td>January</td>\n",
       "      <td>Tuesday</td>\n",
       "      <td>218.40</td>\n",
       "    </tr>\n",
       "    <tr>\n",
       "      <th>2013-01-01</th>\n",
       "      <td>Mama Marys</td>\n",
       "      <td>46</td>\n",
       "      <td>Pizza Sauce</td>\n",
       "      <td>4.65</td>\n",
       "      <td>35457770664</td>\n",
       "      <td>35457770664</td>\n",
       "      <td>27.0</td>\n",
       "      <td>832657</td>\n",
       "      <td>12018 Perrin Beitel Rd</td>\n",
       "      <td>San Antonio</td>\n",
       "      <td>7</td>\n",
       "      <td>TX</td>\n",
       "      <td>78217</td>\n",
       "      <td>January</td>\n",
       "      <td>Tuesday</td>\n",
       "      <td>125.55</td>\n",
       "    </tr>\n",
       "    <tr>\n",
       "      <th>2013-01-01</th>\n",
       "      <td>Mueller</td>\n",
       "      <td>12</td>\n",
       "      <td>Mueller Sport Care Basic Support Level Medium ...</td>\n",
       "      <td>8.40</td>\n",
       "      <td>74676640211</td>\n",
       "      <td>74676640211</td>\n",
       "      <td>54.0</td>\n",
       "      <td>213643</td>\n",
       "      <td>15000 San Pedro Ave</td>\n",
       "      <td>San Antonio</td>\n",
       "      <td>8</td>\n",
       "      <td>TX</td>\n",
       "      <td>78232</td>\n",
       "      <td>January</td>\n",
       "      <td>Tuesday</td>\n",
       "      <td>453.60</td>\n",
       "    </tr>\n",
       "    <tr>\n",
       "      <th>2013-01-01</th>\n",
       "      <td>Mueller</td>\n",
       "      <td>12</td>\n",
       "      <td>Mueller Sport Care Basic Support Level Medium ...</td>\n",
       "      <td>8.40</td>\n",
       "      <td>74676640211</td>\n",
       "      <td>74676640211</td>\n",
       "      <td>35.0</td>\n",
       "      <td>215469</td>\n",
       "      <td>735 SW Military Dr</td>\n",
       "      <td>San Antonio</td>\n",
       "      <td>9</td>\n",
       "      <td>TX</td>\n",
       "      <td>78221</td>\n",
       "      <td>January</td>\n",
       "      <td>Tuesday</td>\n",
       "      <td>294.00</td>\n",
       "    </tr>\n",
       "    <tr>\n",
       "      <th>...</th>\n",
       "      <td>...</td>\n",
       "      <td>...</td>\n",
       "      <td>...</td>\n",
       "      <td>...</td>\n",
       "      <td>...</td>\n",
       "      <td>...</td>\n",
       "      <td>...</td>\n",
       "      <td>...</td>\n",
       "      <td>...</td>\n",
       "      <td>...</td>\n",
       "      <td>...</td>\n",
       "      <td>...</td>\n",
       "      <td>...</td>\n",
       "      <td>...</td>\n",
       "      <td>...</td>\n",
       "      <td>...</td>\n",
       "    </tr>\n",
       "    <tr>\n",
       "      <th>2017-12-31</th>\n",
       "      <td>Halls</td>\n",
       "      <td>34</td>\n",
       "      <td>Halls Menthol Cough Suppresant/oral Anesthetic...</td>\n",
       "      <td>4.17</td>\n",
       "      <td>312546628694</td>\n",
       "      <td>312546628694</td>\n",
       "      <td>21.0</td>\n",
       "      <td>619014</td>\n",
       "      <td>735 SW Military Dr</td>\n",
       "      <td>San Antonio</td>\n",
       "      <td>9</td>\n",
       "      <td>TX</td>\n",
       "      <td>78221</td>\n",
       "      <td>December</td>\n",
       "      <td>Sunday</td>\n",
       "      <td>87.57</td>\n",
       "    </tr>\n",
       "    <tr>\n",
       "      <th>2017-12-31</th>\n",
       "      <td>Halls</td>\n",
       "      <td>34</td>\n",
       "      <td>Halls Menthol Cough Suppresant/oral Anesthetic...</td>\n",
       "      <td>4.17</td>\n",
       "      <td>312546628694</td>\n",
       "      <td>312546628694</td>\n",
       "      <td>32.0</td>\n",
       "      <td>620840</td>\n",
       "      <td>8503 NW Military Hwy</td>\n",
       "      <td>San Antonio</td>\n",
       "      <td>10</td>\n",
       "      <td>TX</td>\n",
       "      <td>78231</td>\n",
       "      <td>December</td>\n",
       "      <td>Sunday</td>\n",
       "      <td>133.44</td>\n",
       "    </tr>\n",
       "    <tr>\n",
       "      <th>2017-12-31</th>\n",
       "      <td>Natures Way</td>\n",
       "      <td>35</td>\n",
       "      <td>Natures Way Forskohlii - 60 Ct</td>\n",
       "      <td>5.19</td>\n",
       "      <td>33674100066</td>\n",
       "      <td>33674100066</td>\n",
       "      <td>55.0</td>\n",
       "      <td>622666</td>\n",
       "      <td>12125 Alamo Ranch Pkwy</td>\n",
       "      <td>San Antonio</td>\n",
       "      <td>1</td>\n",
       "      <td>TX</td>\n",
       "      <td>78253</td>\n",
       "      <td>December</td>\n",
       "      <td>Sunday</td>\n",
       "      <td>285.45</td>\n",
       "    </tr>\n",
       "    <tr>\n",
       "      <th>2017-12-31</th>\n",
       "      <td>The First Years</td>\n",
       "      <td>33</td>\n",
       "      <td>Tomy The First Years Gumdrop Orthodontic Pacif...</td>\n",
       "      <td>6.52</td>\n",
       "      <td>71463060078</td>\n",
       "      <td>71463060078</td>\n",
       "      <td>100.0</td>\n",
       "      <td>598928</td>\n",
       "      <td>15000 San Pedro Ave</td>\n",
       "      <td>San Antonio</td>\n",
       "      <td>8</td>\n",
       "      <td>TX</td>\n",
       "      <td>78232</td>\n",
       "      <td>December</td>\n",
       "      <td>Sunday</td>\n",
       "      <td>652.00</td>\n",
       "    </tr>\n",
       "    <tr>\n",
       "      <th>2017-12-31</th>\n",
       "      <td>Choice</td>\n",
       "      <td>50</td>\n",
       "      <td>Choice Organic Teas Black Tea Classic Black - ...</td>\n",
       "      <td>5.20</td>\n",
       "      <td>47445919221</td>\n",
       "      <td>47445919221</td>\n",
       "      <td>82.0</td>\n",
       "      <td>913000</td>\n",
       "      <td>8503 NW Military Hwy</td>\n",
       "      <td>San Antonio</td>\n",
       "      <td>10</td>\n",
       "      <td>TX</td>\n",
       "      <td>78231</td>\n",
       "      <td>December</td>\n",
       "      <td>Sunday</td>\n",
       "      <td>426.40</td>\n",
       "    </tr>\n",
       "  </tbody>\n",
       "</table>\n",
       "<p>913000 rows × 16 columns</p>\n",
       "</div>"
      ],
      "text/plain": [
       "                 item_brand  item_id  \\\n",
       "sale_date                              \n",
       "2013-01-01         Riceland        1   \n",
       "2013-01-01          Mueller       12   \n",
       "2013-01-01       Mama Marys       46   \n",
       "2013-01-01          Mueller       12   \n",
       "2013-01-01          Mueller       12   \n",
       "...                     ...      ...   \n",
       "2017-12-31            Halls       34   \n",
       "2017-12-31            Halls       34   \n",
       "2017-12-31      Natures Way       35   \n",
       "2017-12-31  The First Years       33   \n",
       "2017-12-31           Choice       50   \n",
       "\n",
       "                                                    item_name  item_price  \\\n",
       "sale_date                                                                   \n",
       "2013-01-01                     Riceland American Jazmine Rice        0.84   \n",
       "2013-01-01  Mueller Sport Care Basic Support Level Medium ...        8.40   \n",
       "2013-01-01                                        Pizza Sauce        4.65   \n",
       "2013-01-01  Mueller Sport Care Basic Support Level Medium ...        8.40   \n",
       "2013-01-01  Mueller Sport Care Basic Support Level Medium ...        8.40   \n",
       "...                                                       ...         ...   \n",
       "2017-12-31  Halls Menthol Cough Suppresant/oral Anesthetic...        4.17   \n",
       "2017-12-31  Halls Menthol Cough Suppresant/oral Anesthetic...        4.17   \n",
       "2017-12-31                     Natures Way Forskohlii - 60 Ct        5.19   \n",
       "2017-12-31  Tomy The First Years Gumdrop Orthodontic Pacif...        6.52   \n",
       "2017-12-31  Choice Organic Teas Black Tea Classic Black - ...        5.20   \n",
       "\n",
       "              item_upc12    item_upc14  sale_amount  sale_id  \\\n",
       "sale_date                                                      \n",
       "2013-01-01   35200264013   35200264013         13.0        1   \n",
       "2013-01-01   74676640211   74676640211         26.0   211817   \n",
       "2013-01-01   35457770664   35457770664         27.0   832657   \n",
       "2013-01-01   74676640211   74676640211         54.0   213643   \n",
       "2013-01-01   74676640211   74676640211         35.0   215469   \n",
       "...                  ...           ...          ...      ...   \n",
       "2017-12-31  312546628694  312546628694         21.0   619014   \n",
       "2017-12-31  312546628694  312546628694         32.0   620840   \n",
       "2017-12-31   33674100066   33674100066         55.0   622666   \n",
       "2017-12-31   71463060078   71463060078        100.0   598928   \n",
       "2017-12-31   47445919221   47445919221         82.0   913000   \n",
       "\n",
       "                     store_address   store_city  store_id store_state  \\\n",
       "sale_date                                                               \n",
       "2013-01-01  12125 Alamo Ranch Pkwy  San Antonio         1          TX   \n",
       "2013-01-01  12018 Perrin Beitel Rd  San Antonio         7          TX   \n",
       "2013-01-01  12018 Perrin Beitel Rd  San Antonio         7          TX   \n",
       "2013-01-01     15000 San Pedro Ave  San Antonio         8          TX   \n",
       "2013-01-01      735 SW Military Dr  San Antonio         9          TX   \n",
       "...                            ...          ...       ...         ...   \n",
       "2017-12-31      735 SW Military Dr  San Antonio         9          TX   \n",
       "2017-12-31    8503 NW Military Hwy  San Antonio        10          TX   \n",
       "2017-12-31  12125 Alamo Ranch Pkwy  San Antonio         1          TX   \n",
       "2017-12-31     15000 San Pedro Ave  San Antonio         8          TX   \n",
       "2017-12-31    8503 NW Military Hwy  San Antonio        10          TX   \n",
       "\n",
       "            store_zipcode     month day_of_the_week  sales_total  \n",
       "sale_date                                                         \n",
       "2013-01-01          78253   January         Tuesday        10.92  \n",
       "2013-01-01          78217   January         Tuesday       218.40  \n",
       "2013-01-01          78217   January         Tuesday       125.55  \n",
       "2013-01-01          78232   January         Tuesday       453.60  \n",
       "2013-01-01          78221   January         Tuesday       294.00  \n",
       "...                   ...       ...             ...          ...  \n",
       "2017-12-31          78221  December          Sunday        87.57  \n",
       "2017-12-31          78231  December          Sunday       133.44  \n",
       "2017-12-31          78253  December          Sunday       285.45  \n",
       "2017-12-31          78232  December          Sunday       652.00  \n",
       "2017-12-31          78231  December          Sunday       426.40  \n",
       "\n",
       "[913000 rows x 16 columns]"
      ]
     },
     "execution_count": 2,
     "metadata": {},
     "output_type": "execute_result"
    }
   ],
   "source": [
    "si = pd.read_csv(\"whole_df.csv\")\n",
    "si.sale_date = pd.to_datetime(si.sale_date.apply(lambda x: x[:-13]))\n",
    "si = si.set_index('sale_date').sort_index()\n",
    "si = si.drop(columns=\"Unnamed: 0\")\n",
    "si['month'] = si.index.month_name()\n",
    "si['day_of_the_week'] = si.index.day_name()\n",
    "si['sales_total'] = si.sale_amount * si.item_price\n",
    "si\n"
   ]
  },
  {
   "cell_type": "code",
   "execution_count": 3,
   "id": "687b5d75-ea13-4a6e-9f68-7e28cf2e69fc",
   "metadata": {},
   "outputs": [
    {
     "data": {
      "text/plain": [
       "(Timestamp('2013-01-01 00:00:00'), Timestamp('2017-12-31 00:00:00'))"
      ]
     },
     "execution_count": 3,
     "metadata": {},
     "output_type": "execute_result"
    }
   ],
   "source": [
    "si.index.min(), si.index.max()"
   ]
  },
  {
   "cell_type": "code",
   "execution_count": 6,
   "id": "347eb904-e8a4-41f6-a305-b3e08d8c23d6",
   "metadata": {},
   "outputs": [
    {
     "data": {
      "text/plain": [
       "Index(['item_brand', 'item_id', 'item_name', 'item_price', 'item_upc12',\n",
       "       'item_upc14', 'sale_amount', 'sale_id', 'store_address', 'store_city',\n",
       "       'store_id', 'store_state', 'store_zipcode', 'month', 'day_of_the_week',\n",
       "       'sales_total'],\n",
       "      dtype='object')"
      ]
     },
     "execution_count": 6,
     "metadata": {},
     "output_type": "execute_result"
    }
   ],
   "source": [
    "si.columns"
   ]
  },
  {
   "cell_type": "code",
   "execution_count": 8,
   "id": "c1f05de1-ce8f-4a7e-9667-37c2e10cc89e",
   "metadata": {},
   "outputs": [
    {
     "data": {
      "text/plain": [
       "<AxesSubplot:xlabel='sale_date'>"
      ]
     },
     "execution_count": 8,
     "metadata": {},
     "output_type": "execute_result"
    },
    {
     "data": {
      "image/png": "[encoded data removed]",
      "text/plain": [
       "<Figure size 432x288 with 1 Axes>"
      ]
     },
     "metadata": {
      "needs_background": "light"
     },
     "output_type": "display_data"
    }
   ],
   "source": [
    "si.sale_amount.plot()"
   ]
  },
  {
   "cell_type": "code",
   "execution_count": 10,
   "id": "972ee3ce-2d78-458c-a786-607f2557149e",
   "metadata": {},
   "outputs": [
    {
     "data": {
      "text/plain": [
       "<AxesSubplot:xlabel='sale_date'>"
      ]
     },
     "execution_count": 10,
     "metadata": {},
     "output_type": "execute_result"
    },
    {
     "data": {
      "image/png": "[encoded data removed]",
      "text/plain": [
       "<Figure size 432x288 with 1 Axes>"
      ]
     },
     "metadata": {
      "needs_background": "light"
     },
     "output_type": "display_data"
    }
   ],
   "source": [
    "si.sales_total.plot()"
   ]
  },
  {
   "cell_type": "markdown",
   "id": "c741142f-82ca-420b-b18d-68cedbad47a5",
   "metadata": {},
   "source": [
    "# split"
   ]
  },
  {
   "cell_type": "code",
   "execution_count": 13,
   "id": "3b9e8010-4cdf-4cf4-80af-8a27bb9c0227",
   "metadata": {},
   "outputs": [
    {
     "data": {
      "text/plain": [
       "<matplotlib.legend.Legend at 0x7f867b9e3070>"
      ]
     },
     "execution_count": 13,
     "metadata": {},
     "output_type": "execute_result"
    },
    {
     "data": {
      "image/png": "[encoded data removed]",
      "text/plain": [
       "<Figure size 432x288 with 1 Axes>"
      ]
     },
     "metadata": {
      "needs_background": "light"
     },
     "output_type": "display_data"
    }
   ],
   "source": [
    "train = si.loc[:'2016']\n",
    "test = si.loc['2017']\n",
    "\n",
    "ax = train.sales_total.plot(label = 'train')\n",
    "test.sales_total.plot(ax=ax, label = 'test')\n",
    "plt.legend()"
   ]
  },
  {
   "cell_type": "code",
   "execution_count": null,
   "id": "bfefedcc-19b9-49aa-a2dd-ea059eaa5cc6",
   "metadata": {},
   "outputs": [],
   "source": []
  }
 ],
 "metadata": {
  "kernelspec": {
   "display_name": "Python 3",
   "language": "python",
   "name": "python3"
  },
  "language_info": {
   "codemirror_mode": {
    "name": "ipython",
    "version": 3
   },
   "file_extension": ".py",
   "mimetype": "text/x-python",
   "name": "python",
   "nbconvert_exporter": "python",
   "pygments_lexer": "ipython3",
   "version": "3.8.8"
  }
 },
 "nbformat": 4,
 "nbformat_minor": 5
}
