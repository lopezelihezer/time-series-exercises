{
 "cells": [
  {
   "cell_type": "code",
   "execution_count": 1,
   "id": "8fe324a2-c551-4ded-91e6-68d7d649b48a",
   "metadata": {},
   "outputs": [],
   "source": [
    "#scratch"
   ]
  },
  {
   "cell_type": "code",
   "execution_count": 2,
   "id": "2a5e1852-92ae-408d-8c77-511ae0d7fb01",
   "metadata": {},
   "outputs": [],
   "source": [
    "# review lesson"
   ]
  },
  {
   "cell_type": "code",
   "execution_count": null,
   "id": "4270f020-ba6e-4f79-8630-6a05535bcffe",
   "metadata": {},
   "outputs": [],
   "source": []
  }
 ],
 "metadata": {
  "kernelspec": {
   "display_name": "Python 3",
   "language": "python",
   "name": "python3"
  },
  "language_info": {
   "codemirror_mode": {
    "name": "ipython",
    "version": 3
   },
   "file_extension": ".py",
   "mimetype": "text/x-python",
   "name": "python",
   "nbconvert_exporter": "python",
   "pygments_lexer": "ipython3",
   "version": "3.8.8"
  }
 },
 "nbformat": 4,
 "nbformat_minor": 5
}
