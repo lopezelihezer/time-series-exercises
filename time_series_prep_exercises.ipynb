{
 "cells": [
  {
   "cell_type": "markdown",
   "id": "545b332d-4740-41f6-87d1-1512eb484786",
   "metadata": {},
   "source": [
    "# Exercises"
   ]
  },
  {
   "cell_type": "code",
   "execution_count": 1,
   "id": "23d1bdfe-a477-48a4-8e52-e65481b776cc",
   "metadata": {},
   "outputs": [],
   "source": [
    "import pandas as pd\n",
    "import matplotlib.pyplot as plt\n",
    "from vega_datasets import data"
   ]
  },
  {
   "cell_type": "code",
   "execution_count": 2,
   "id": "5eb3b5d6-b687-43dc-8ea7-c797a608cf79",
   "metadata": {},
   "outputs": [],
   "source": [
    "si = pd.read_csv(\"whole_df.csv\")"
   ]
  },
  {
   "cell_type": "code",
   "execution_count": 3,
   "id": "4ed8cd11-751f-4ee9-bf02-762c7d936861",
   "metadata": {
    "tags": []
   },
   "outputs": [
    {
     "data": {
      "text/html": [
       "<div>\n",
       "<style scoped>\n",
       "    .dataframe tbody tr th:only-of-type {\n",
       "        vertical-align: middle;\n",
       "    }\n",
       "\n",
       "    .dataframe tbody tr th {\n",
       "        vertical-align: top;\n",
       "    }\n",
       "\n",
       "    .dataframe thead th {\n",
       "        text-align: right;\n",
       "    }\n",
       "</style>\n",
       "<table border=\"1\" class=\"dataframe\">\n",
       "  <thead>\n",
       "    <tr style=\"text-align: right;\">\n",
       "      <th></th>\n",
       "      <th>Unnamed: 0</th>\n",
       "      <th>item_brand</th>\n",
       "      <th>item_id</th>\n",
       "      <th>item_name</th>\n",
       "      <th>item_price</th>\n",
       "      <th>item_upc12</th>\n",
       "      <th>item_upc14</th>\n",
       "      <th>sale_amount</th>\n",
       "      <th>sale_date</th>\n",
       "      <th>sale_id</th>\n",
       "      <th>store_address</th>\n",
       "      <th>store_city</th>\n",
       "      <th>store_id</th>\n",
       "      <th>store_state</th>\n",
       "      <th>store_zipcode</th>\n",
       "    </tr>\n",
       "  </thead>\n",
       "  <tbody>\n",
       "    <tr>\n",
       "      <th>0</th>\n",
       "      <td>0</td>\n",
       "      <td>Riceland</td>\n",
       "      <td>1</td>\n",
       "      <td>Riceland American Jazmine Rice</td>\n",
       "      <td>0.84</td>\n",
       "      <td>35200264013</td>\n",
       "      <td>35200264013</td>\n",
       "      <td>13.0</td>\n",
       "      <td>Tue, 01 Jan 2013 00:00:00 GMT</td>\n",
       "      <td>1</td>\n",
       "      <td>12125 Alamo Ranch Pkwy</td>\n",
       "      <td>San Antonio</td>\n",
       "      <td>1</td>\n",
       "      <td>TX</td>\n",
       "      <td>78253</td>\n",
       "    </tr>\n",
       "    <tr>\n",
       "      <th>1</th>\n",
       "      <td>1</td>\n",
       "      <td>Riceland</td>\n",
       "      <td>1</td>\n",
       "      <td>Riceland American Jazmine Rice</td>\n",
       "      <td>0.84</td>\n",
       "      <td>35200264013</td>\n",
       "      <td>35200264013</td>\n",
       "      <td>11.0</td>\n",
       "      <td>Wed, 02 Jan 2013 00:00:00 GMT</td>\n",
       "      <td>2</td>\n",
       "      <td>12125 Alamo Ranch Pkwy</td>\n",
       "      <td>San Antonio</td>\n",
       "      <td>1</td>\n",
       "      <td>TX</td>\n",
       "      <td>78253</td>\n",
       "    </tr>\n",
       "    <tr>\n",
       "      <th>2</th>\n",
       "      <td>2</td>\n",
       "      <td>Riceland</td>\n",
       "      <td>1</td>\n",
       "      <td>Riceland American Jazmine Rice</td>\n",
       "      <td>0.84</td>\n",
       "      <td>35200264013</td>\n",
       "      <td>35200264013</td>\n",
       "      <td>14.0</td>\n",
       "      <td>Thu, 03 Jan 2013 00:00:00 GMT</td>\n",
       "      <td>3</td>\n",
       "      <td>12125 Alamo Ranch Pkwy</td>\n",
       "      <td>San Antonio</td>\n",
       "      <td>1</td>\n",
       "      <td>TX</td>\n",
       "      <td>78253</td>\n",
       "    </tr>\n",
       "    <tr>\n",
       "      <th>3</th>\n",
       "      <td>3</td>\n",
       "      <td>Riceland</td>\n",
       "      <td>1</td>\n",
       "      <td>Riceland American Jazmine Rice</td>\n",
       "      <td>0.84</td>\n",
       "      <td>35200264013</td>\n",
       "      <td>35200264013</td>\n",
       "      <td>13.0</td>\n",
       "      <td>Fri, 04 Jan 2013 00:00:00 GMT</td>\n",
       "      <td>4</td>\n",
       "      <td>12125 Alamo Ranch Pkwy</td>\n",
       "      <td>San Antonio</td>\n",
       "      <td>1</td>\n",
       "      <td>TX</td>\n",
       "      <td>78253</td>\n",
       "    </tr>\n",
       "    <tr>\n",
       "      <th>4</th>\n",
       "      <td>4</td>\n",
       "      <td>Riceland</td>\n",
       "      <td>1</td>\n",
       "      <td>Riceland American Jazmine Rice</td>\n",
       "      <td>0.84</td>\n",
       "      <td>35200264013</td>\n",
       "      <td>35200264013</td>\n",
       "      <td>10.0</td>\n",
       "      <td>Sat, 05 Jan 2013 00:00:00 GMT</td>\n",
       "      <td>5</td>\n",
       "      <td>12125 Alamo Ranch Pkwy</td>\n",
       "      <td>San Antonio</td>\n",
       "      <td>1</td>\n",
       "      <td>TX</td>\n",
       "      <td>78253</td>\n",
       "    </tr>\n",
       "  </tbody>\n",
       "</table>\n",
       "</div>"
      ],
      "text/plain": [
       "   Unnamed: 0 item_brand  item_id                       item_name  item_price  \\\n",
       "0           0   Riceland        1  Riceland American Jazmine Rice        0.84   \n",
       "1           1   Riceland        1  Riceland American Jazmine Rice        0.84   \n",
       "2           2   Riceland        1  Riceland American Jazmine Rice        0.84   \n",
       "3           3   Riceland        1  Riceland American Jazmine Rice        0.84   \n",
       "4           4   Riceland        1  Riceland American Jazmine Rice        0.84   \n",
       "\n",
       "    item_upc12   item_upc14  sale_amount                      sale_date  \\\n",
       "0  35200264013  35200264013         13.0  Tue, 01 Jan 2013 00:00:00 GMT   \n",
       "1  35200264013  35200264013         11.0  Wed, 02 Jan 2013 00:00:00 GMT   \n",
       "2  35200264013  35200264013         14.0  Thu, 03 Jan 2013 00:00:00 GMT   \n",
       "3  35200264013  35200264013         13.0  Fri, 04 Jan 2013 00:00:00 GMT   \n",
       "4  35200264013  35200264013         10.0  Sat, 05 Jan 2013 00:00:00 GMT   \n",
       "\n",
       "   sale_id           store_address   store_city  store_id store_state  \\\n",
       "0        1  12125 Alamo Ranch Pkwy  San Antonio         1          TX   \n",
       "1        2  12125 Alamo Ranch Pkwy  San Antonio         1          TX   \n",
       "2        3  12125 Alamo Ranch Pkwy  San Antonio         1          TX   \n",
       "3        4  12125 Alamo Ranch Pkwy  San Antonio         1          TX   \n",
       "4        5  12125 Alamo Ranch Pkwy  San Antonio         1          TX   \n",
       "\n",
       "   store_zipcode  \n",
       "0          78253  \n",
       "1          78253  \n",
       "2          78253  \n",
       "3          78253  \n",
       "4          78253  "
      ]
     },
     "execution_count": 3,
     "metadata": {},
     "output_type": "execute_result"
    }
   ],
   "source": [
    "si.head()"
   ]
  },
  {
   "cell_type": "markdown",
   "id": "d322fbb9-d6aa-4910-ac69-a4c061532c08",
   "metadata": {},
   "source": [
    "1. Convert the date column to datetime format."
   ]
  },
  {
   "cell_type": "code",
   "execution_count": 4,
   "id": "9f6296e4-0957-4f37-9ac3-e925db8720c3",
   "metadata": {},
   "outputs": [],
   "source": [
    "si.sale_date = pd.to_datetime(si.sale_date)"
   ]
  },
  {
   "cell_type": "markdown",
   "id": "9fc3e587-ce29-455b-b236-bd8bb0405c17",
   "metadata": {},
   "source": [
    "2. Plot the distribution of sale_amount and item_price."
   ]
  },
  {
   "cell_type": "code",
   "execution_count": 5,
   "id": "e4b0c410-6d9e-474d-8f46-dea695b41f13",
   "metadata": {
    "tags": []
   },
   "outputs": [
    {
     "data": {
      "text/plain": [
       "<AxesSubplot:>"
      ]
     },
     "execution_count": 5,
     "metadata": {},
     "output_type": "execute_result"
    },
    {
     "data": {
      "image/png": "[encoded data removed]",
      "text/plain": [
       "<Figure size 432x288 with 1 Axes>"
      ]
     },
     "metadata": {
      "needs_background": "light"
     },
     "output_type": "display_data"
    }
   ],
   "source": [
    "si.item_price.plot()"
   ]
  },
  {
   "cell_type": "code",
   "execution_count": 6,
   "id": "7b7443f1-a4db-445e-8f83-bbf1f67092e4",
   "metadata": {},
   "outputs": [
    {
     "data": {
      "text/plain": [
       "<AxesSubplot:>"
      ]
     },
     "execution_count": 6,
     "metadata": {},
     "output_type": "execute_result"
    },
    {
     "data": {
      "image/png": "[encoded data removed]",
      "text/plain": [
       "<Figure size 432x288 with 1 Axes>"
      ]
     },
     "metadata": {
      "needs_background": "light"
     },
     "output_type": "display_data"
    }
   ],
   "source": [
    "si.sale_amount.plot()"
   ]
  },
  {
   "cell_type": "markdown",
   "id": "7142e9d8-fb7b-41d4-9766-a3bd53d28630",
   "metadata": {},
   "source": [
    "3. Set the index to be the datetime variable."
   ]
  },
  {
   "cell_type": "code",
   "execution_count": 7,
   "id": "70c85d8b-09b6-4186-a5ca-a569a7508a00",
   "metadata": {},
   "outputs": [],
   "source": [
    "si = si.set_index('sale_date').sort_index()"
   ]
  },
  {
   "cell_type": "code",
   "execution_count": 8,
   "id": "956115ec-1eba-44b8-b067-e74230843167",
   "metadata": {},
   "outputs": [],
   "source": [
    "si = si.drop(columns=\"Unnamed: 0\")"
   ]
  },
  {
   "cell_type": "code",
   "execution_count": 9,
   "id": "65c50676-2ef0-411f-bec4-3035fc6dfe60",
   "metadata": {},
   "outputs": [
    {
     "data": {
      "text/html": [
       "<div>\n",
       "<style scoped>\n",
       "    .dataframe tbody tr th:only-of-type {\n",
       "        vertical-align: middle;\n",
       "    }\n",
       "\n",
       "    .dataframe tbody tr th {\n",
       "        vertical-align: top;\n",
       "    }\n",
       "\n",
       "    .dataframe thead th {\n",
       "        text-align: right;\n",
       "    }\n",
       "</style>\n",
       "<table border=\"1\" class=\"dataframe\">\n",
       "  <thead>\n",
       "    <tr style=\"text-align: right;\">\n",
       "      <th></th>\n",
       "      <th>item_brand</th>\n",
       "      <th>item_id</th>\n",
       "      <th>item_name</th>\n",
       "      <th>item_price</th>\n",
       "      <th>item_upc12</th>\n",
       "      <th>item_upc14</th>\n",
       "      <th>sale_amount</th>\n",
       "      <th>sale_id</th>\n",
       "      <th>store_address</th>\n",
       "      <th>store_city</th>\n",
       "      <th>store_id</th>\n",
       "      <th>store_state</th>\n",
       "      <th>store_zipcode</th>\n",
       "    </tr>\n",
       "    <tr>\n",
       "      <th>sale_date</th>\n",
       "      <th></th>\n",
       "      <th></th>\n",
       "      <th></th>\n",
       "      <th></th>\n",
       "      <th></th>\n",
       "      <th></th>\n",
       "      <th></th>\n",
       "      <th></th>\n",
       "      <th></th>\n",
       "      <th></th>\n",
       "      <th></th>\n",
       "      <th></th>\n",
       "      <th></th>\n",
       "    </tr>\n",
       "  </thead>\n",
       "  <tbody>\n",
       "    <tr>\n",
       "      <th>2013-01-01 00:00:00+00:00</th>\n",
       "      <td>Riceland</td>\n",
       "      <td>1</td>\n",
       "      <td>Riceland American Jazmine Rice</td>\n",
       "      <td>0.84</td>\n",
       "      <td>35200264013</td>\n",
       "      <td>35200264013</td>\n",
       "      <td>13.0</td>\n",
       "      <td>1</td>\n",
       "      <td>12125 Alamo Ranch Pkwy</td>\n",
       "      <td>San Antonio</td>\n",
       "      <td>1</td>\n",
       "      <td>TX</td>\n",
       "      <td>78253</td>\n",
       "    </tr>\n",
       "    <tr>\n",
       "      <th>2013-01-01 00:00:00+00:00</th>\n",
       "      <td>Mueller</td>\n",
       "      <td>12</td>\n",
       "      <td>Mueller Sport Care Basic Support Level Medium ...</td>\n",
       "      <td>8.40</td>\n",
       "      <td>74676640211</td>\n",
       "      <td>74676640211</td>\n",
       "      <td>26.0</td>\n",
       "      <td>211817</td>\n",
       "      <td>12018 Perrin Beitel Rd</td>\n",
       "      <td>San Antonio</td>\n",
       "      <td>7</td>\n",
       "      <td>TX</td>\n",
       "      <td>78217</td>\n",
       "    </tr>\n",
       "    <tr>\n",
       "      <th>2013-01-01 00:00:00+00:00</th>\n",
       "      <td>Mama Marys</td>\n",
       "      <td>46</td>\n",
       "      <td>Pizza Sauce</td>\n",
       "      <td>4.65</td>\n",
       "      <td>35457770664</td>\n",
       "      <td>35457770664</td>\n",
       "      <td>27.0</td>\n",
       "      <td>832657</td>\n",
       "      <td>12018 Perrin Beitel Rd</td>\n",
       "      <td>San Antonio</td>\n",
       "      <td>7</td>\n",
       "      <td>TX</td>\n",
       "      <td>78217</td>\n",
       "    </tr>\n",
       "    <tr>\n",
       "      <th>2013-01-01 00:00:00+00:00</th>\n",
       "      <td>Mueller</td>\n",
       "      <td>12</td>\n",
       "      <td>Mueller Sport Care Basic Support Level Medium ...</td>\n",
       "      <td>8.40</td>\n",
       "      <td>74676640211</td>\n",
       "      <td>74676640211</td>\n",
       "      <td>54.0</td>\n",
       "      <td>213643</td>\n",
       "      <td>15000 San Pedro Ave</td>\n",
       "      <td>San Antonio</td>\n",
       "      <td>8</td>\n",
       "      <td>TX</td>\n",
       "      <td>78232</td>\n",
       "    </tr>\n",
       "    <tr>\n",
       "      <th>2013-01-01 00:00:00+00:00</th>\n",
       "      <td>Mueller</td>\n",
       "      <td>12</td>\n",
       "      <td>Mueller Sport Care Basic Support Level Medium ...</td>\n",
       "      <td>8.40</td>\n",
       "      <td>74676640211</td>\n",
       "      <td>74676640211</td>\n",
       "      <td>35.0</td>\n",
       "      <td>215469</td>\n",
       "      <td>735 SW Military Dr</td>\n",
       "      <td>San Antonio</td>\n",
       "      <td>9</td>\n",
       "      <td>TX</td>\n",
       "      <td>78221</td>\n",
       "    </tr>\n",
       "  </tbody>\n",
       "</table>\n",
       "</div>"
      ],
      "text/plain": [
       "                           item_brand  item_id  \\\n",
       "sale_date                                        \n",
       "2013-01-01 00:00:00+00:00    Riceland        1   \n",
       "2013-01-01 00:00:00+00:00     Mueller       12   \n",
       "2013-01-01 00:00:00+00:00  Mama Marys       46   \n",
       "2013-01-01 00:00:00+00:00     Mueller       12   \n",
       "2013-01-01 00:00:00+00:00     Mueller       12   \n",
       "\n",
       "                                                                   item_name  \\\n",
       "sale_date                                                                      \n",
       "2013-01-01 00:00:00+00:00                     Riceland American Jazmine Rice   \n",
       "2013-01-01 00:00:00+00:00  Mueller Sport Care Basic Support Level Medium ...   \n",
       "2013-01-01 00:00:00+00:00                                        Pizza Sauce   \n",
       "2013-01-01 00:00:00+00:00  Mueller Sport Care Basic Support Level Medium ...   \n",
       "2013-01-01 00:00:00+00:00  Mueller Sport Care Basic Support Level Medium ...   \n",
       "\n",
       "                           item_price   item_upc12   item_upc14  sale_amount  \\\n",
       "sale_date                                                                      \n",
       "2013-01-01 00:00:00+00:00        0.84  35200264013  35200264013         13.0   \n",
       "2013-01-01 00:00:00+00:00        8.40  74676640211  74676640211         26.0   \n",
       "2013-01-01 00:00:00+00:00        4.65  35457770664  35457770664         27.0   \n",
       "2013-01-01 00:00:00+00:00        8.40  74676640211  74676640211         54.0   \n",
       "2013-01-01 00:00:00+00:00        8.40  74676640211  74676640211         35.0   \n",
       "\n",
       "                           sale_id           store_address   store_city  \\\n",
       "sale_date                                                                 \n",
       "2013-01-01 00:00:00+00:00        1  12125 Alamo Ranch Pkwy  San Antonio   \n",
       "2013-01-01 00:00:00+00:00   211817  12018 Perrin Beitel Rd  San Antonio   \n",
       "2013-01-01 00:00:00+00:00   832657  12018 Perrin Beitel Rd  San Antonio   \n",
       "2013-01-01 00:00:00+00:00   213643     15000 San Pedro Ave  San Antonio   \n",
       "2013-01-01 00:00:00+00:00   215469      735 SW Military Dr  San Antonio   \n",
       "\n",
       "                           store_id store_state  store_zipcode  \n",
       "sale_date                                                       \n",
       "2013-01-01 00:00:00+00:00         1          TX          78253  \n",
       "2013-01-01 00:00:00+00:00         7          TX          78217  \n",
       "2013-01-01 00:00:00+00:00         7          TX          78217  \n",
       "2013-01-01 00:00:00+00:00         8          TX          78232  \n",
       "2013-01-01 00:00:00+00:00         9          TX          78221  "
      ]
     },
     "execution_count": 9,
     "metadata": {},
     "output_type": "execute_result"
    }
   ],
   "source": [
    "si.head()"
   ]
  },
  {
   "cell_type": "markdown",
   "id": "441b7546-ebd5-4ab3-8a1a-63307bbfc7b1",
   "metadata": {},
   "source": [
    "4. Add a 'month' and 'day of the week' column to your dataframe."
   ]
  },
  {
   "cell_type": "code",
   "execution_count": null,
   "id": "be074084-8215-46d5-a326-e28544321880",
   "metadata": {},
   "outputs": [],
   "source": []
  }
 ],
 "metadata": {
  "kernelspec": {
   "display_name": "Python 3",
   "language": "python",
   "name": "python3"
  },
  "language_info": {
   "codemirror_mode": {
    "name": "ipython",
    "version": 3
   },
   "file_extension": ".py",
   "mimetype": "text/x-python",
   "name": "python",
   "nbconvert_exporter": "python",
   "pygments_lexer": "ipython3",
   "version": "3.8.8"
  }
 },
 "nbformat": 4,
 "nbformat_minor": 5
}
